{
 "cells": [
  {
   "cell_type": "code",
   "execution_count": 1,
   "id": "93aad0b1",
   "metadata": {},
   "outputs": [],
   "source": [
    "import PIL\n",
    "from tkinter import *\n",
    "from PIL import Image\n",
    "from PIL import ImageTk\n",
    "from PIL import ImageFilter\n",
    "from tkinter import filedialog\n",
    "import cv2\n",
    "from skimage import filters\n",
    "import skimage\n",
    "import numpy as np\n",
    "from tkinter import filedialog as fd"
   ]
  },
  {
   "cell_type": "code",
   "execution_count": 2,
   "id": "0b14c14b",
   "metadata": {},
   "outputs": [],
   "source": [
    "def upload():\n",
    "    global panelA, panelB, image\n",
    "    f_types = [('Jpg Files', '*.jpg'),('PNG Files','*.png')] \n",
    "    path = filedialog.askopenfilename()\n",
    "    image = cv2.imread(path) \n",
    "    image = cv2.resize(image, (500,500))\n",
    "\n",
    "    image = cv2.cvtColor(image, cv2.COLOR_BGR2RGB)\n",
    "    image1 = Image.fromarray(image)\n",
    "\n",
    "    image1 = ImageTk.PhotoImage(image1)\n",
    "\n",
    "    panelA = Label(image=image1, borderwidth=5, relief=\"sunken\")\n",
    "    panelA.image = image1\n",
    "    panelA.grid(row= 1, column=1 , rowspan= 13, columnspan= 3, padx=20, pady=20)\n",
    "    \n",
    "    return image"
   ]
  },
  {
   "cell_type": "code",
   "execution_count": 3,
   "id": "64f672ba",
   "metadata": {},
   "outputs": [],
   "source": [
    "def grayscale():\n",
    "    grayimg= cv2.cvtColor(image, cv2.COLOR_BGR2GRAY)\n",
    "    grayimg1= Image.fromarray(grayimg)\n",
    "    \n",
    "    grayimg1= ImageTk.PhotoImage(grayimg1)\n",
    "    \n",
    "    panelB = Label(image=grayimg1, borderwidth=5, relief=\"sunken\")\n",
    "    panelB.image = grayimg1\n",
    "    panelB.grid(row= 1, column=4 , rowspan= 13,columnspan= 3, padx=20, pady=20)\n",
    "    \n",
    "    return grayimg"
   ]
  },
  {
   "cell_type": "code",
   "execution_count": null,
   "id": "c4945d71",
   "metadata": {},
   "outputs": [],
   "source": []
  },
  {
   "cell_type": "markdown",
   "id": "83f3fb1b",
   "metadata": {},
   "source": [
    "# Xử lý âm bản"
   ]
  },
  {
   "cell_type": "code",
   "execution_count": 4,
   "id": "865d19b9",
   "metadata": {},
   "outputs": [],
   "source": [
    "def amban():\n",
    "#     image = grayscale()\n",
    "    [w,h] = image.shape[:2]\n",
    "    amban_img = image.copy()\n",
    "    # duyệt qua từng pixel\n",
    "    for i in range(w):\n",
    "        for j in range(h):\n",
    "            # lấy giá trị lớn nhất (255) trừ giá trị hiện tại\n",
    "            amban_img[i][j] = 255 - amban_img[i][j]\n",
    "    amban_img= ImageTk.PhotoImage(Image.fromarray(amban_img))\n",
    "    panelB = Label(image=amban_img, borderwidth=5, relief=\"sunken\")\n",
    "    panelB.image = amban_img\n",
    "    panelB.grid(row= 1, column=4 , rowspan= 13,columnspan= 3, padx=20, pady=20)\n",
    "    \n",
    "    return amban_img"
   ]
  },
  {
   "cell_type": "markdown",
   "id": "d239707e",
   "metadata": {},
   "source": [
    "# Phân ngưỡng"
   ]
  },
  {
   "cell_type": "code",
   "execution_count": 5,
   "id": "871b36c3",
   "metadata": {},
   "outputs": [],
   "source": [
    "def phanNguong():\n",
    "#     image = grayscale()\n",
    "    [w,h] = image.shape[:2]\n",
    "    threshold = 100\n",
    "    pb_img = image.copy()\n",
    "    # hàm where của np\n",
    "    pb_img =  np.where(pb_img > threshold, 255, 0)\n",
    "    # để bình thường bị lỗi nên phải dùng astype\n",
    "    pb_img= ImageTk.PhotoImage(Image.fromarray(pb_img.astype(np.uint8)))\n",
    "    panelB = Label(image=pb_img, borderwidth=5, relief=\"sunken\")\n",
    "    panelB.image = pb_img\n",
    "    panelB.grid(row= 1, column=4 , rowspan= 13,columnspan= 3, padx=20, pady=20)    \n",
    "    return pb_img"
   ]
  },
  {
   "cell_type": "code",
   "execution_count": 6,
   "id": "ae3fd30a",
   "metadata": {},
   "outputs": [],
   "source": [
    "def threshold():\n",
    "#     image = grayscale()\n",
    "    \n",
    "    ret, thresh = cv2.threshold(image, 127, 255, cv2.THRESH_BINARY)\n",
    "    thresh1= Image.fromarray(thresh)\n",
    "    \n",
    "    thresh1= ImageTk.PhotoImage(thresh1)\n",
    "    \n",
    "    panelB = Label(image=thresh1, borderwidth=5, relief=\"sunken\")\n",
    "    panelB.image = thresh1\n",
    "    panelB.grid(row= 1, column=4 , rowspan= 13,columnspan= 3, padx=20, pady=20)\n",
    "        \n",
    "    return thresh"
   ]
  },
  {
   "cell_type": "markdown",
   "id": "e1d67947",
   "metadata": {},
   "source": [
    "# Logarith"
   ]
  },
  {
   "cell_type": "code",
   "execution_count": 14,
   "id": "43c9d8fb",
   "metadata": {},
   "outputs": [],
   "source": [
    "def logarith():\n",
    "    image = grayscale()\n",
    "    [w,h] = image.shape[:2]\n",
    "    log_img = image.copy()\n",
    "    # duyệt qua từng pixel\n",
    "    for i in range(w):\n",
    "        for j in range(h):\n",
    "            log_img[i][j] = np.round( 100*np.log(1 + log_img[i][j]))\n",
    "    log_img = ImageTk.PhotoImage(Image.fromarray(log_img))\n",
    "    panelB = Label(image = log_img,borderwidth=5, relief=\"sunken\")\n",
    "    panelB.image = log_img\n",
    "    panelB.grid(row= 1, column=4 , rowspan= 13,columnspan= 3, padx=20, pady=20)\n",
    "    return log_img\n",
    "\n"
   ]
  },
  {
   "cell_type": "markdown",
   "id": "110d1e5b",
   "metadata": {},
   "source": [
    "# Hàm mũ"
   ]
  },
  {
   "cell_type": "code",
   "execution_count": 8,
   "id": "e0ffee53",
   "metadata": {},
   "outputs": [],
   "source": [
    "def hamMu():\n",
    "    c = 1\n",
    "    r= 0.5\n",
    "    image = grayscale()\n",
    "    [w,h] = image.shape[:2]\n",
    "    log_img = image.copy()\n",
    "    # duyệt qua từng pixel\n",
    "    for i in range(w):\n",
    "        for j in range(h):\n",
    "            log_img[i][j] = np.round(20* (log_img[i][j] ** r))\n",
    "    log_img = ImageTk.PhotoImage(Image.fromarray(log_img))\n",
    "    panelB = Label(image = log_img,borderwidth=5, relief=\"sunken\")\n",
    "    panelB.image = log_img\n",
    "    panelB.grid(row= 1, column=4 , rowspan= 13,columnspan= 3, padx=20, pady=20)\n",
    "    \n",
    "    return log_img  "
   ]
  },
  {
   "cell_type": "markdown",
   "id": "6640de54",
   "metadata": {},
   "source": [
    "# Cân bằng lược đồ xám"
   ]
  },
  {
   "cell_type": "code",
   "execution_count": 9,
   "id": "27fd1020",
   "metadata": {},
   "outputs": [],
   "source": [
    "def histogram():\n",
    "    image = grayscale()\n",
    "    [w,h] = image.shape[:2]\n",
    "    img = image.copy()\n",
    "    frequency ={}\n",
    "    # duyệt qua từng pixel\n",
    "    for i in range(w):\n",
    "        for j in range(h):\n",
    "            if img[i][j] in frequency:\n",
    "                frequency[img[i][j]] +=1\n",
    "            else :\n",
    "                frequency[img[i][j]] = 1\n",
    "    pixel_values = sorted(frequency.keys())\n",
    "    tmp = 0\n",
    "    for pixel in pixel_values:\n",
    "        tmp += 255*(frequency[pixel]/(w*h))\n",
    "        frequency[pixel]=round(tmp)\n",
    "        \n",
    "    for i in range(w):\n",
    "        for j in range(h):\n",
    "            img[i][j] = frequency[img[i][j]]\n",
    "\n",
    "    \n",
    "    \n",
    "    img = ImageTk.PhotoImage(Image.fromarray(img))\n",
    "    panelB = Label(image = img,borderwidth=5, relief=\"sunken\")\n",
    "    panelB.image = img\n",
    "    panelB.grid(row= 1, column=4 , rowspan= 13,columnspan= 3, padx=20, pady=20)\n",
    "    return img  "
   ]
  },
  {
   "cell_type": "markdown",
   "id": "fa5d1f9a",
   "metadata": {},
   "source": [
    "# Giãn"
   ]
  },
  {
   "cell_type": "code",
   "execution_count": 10,
   "id": "2d8beb6b",
   "metadata": {},
   "outputs": [],
   "source": [
    "def gian():\n",
    "    image = grayscale()\n",
    "    [w,h] = image.shape[:2]\n",
    "\n",
    "    binary_image = cv2.threshold(image, 150, 255, cv2.THRESH_BINARY)[1]\n",
    "    result = np.zeros(shape=(w, h)) \n",
    "    for i in range(1, w-1):\n",
    "        for j in range(1, h-1):\n",
    "            if binary_image[i][j] == 255 or binary_image[i][j-1] == 255 or binary_image[i][j+1] == 255 or binary_image[i+1][j] == 255 or binary_image[i-1][j] == 255:\n",
    "                result[i][j] = 255\n",
    "    result = ImageTk.PhotoImage(Image.fromarray(result))\n",
    "    panelB = Label(image = result,borderwidth=5, relief=\"sunken\")\n",
    "    panelB.image = result\n",
    "    panelB.grid(row= 1, column=4 , rowspan= 13,columnspan= 3, padx=20, pady=20)\n",
    "    return result  \n"
   ]
  },
  {
   "cell_type": "markdown",
   "id": "99150c02",
   "metadata": {},
   "source": [
    "# Bộ lọc Sobel"
   ]
  },
  {
   "cell_type": "code",
   "execution_count": 11,
   "id": "cce328fd",
   "metadata": {},
   "outputs": [],
   "source": [
    "def Sobel():\n",
    "    image = grayscale()\n",
    "    [w,h] = image.shape[:2]\n",
    "\n",
    "    result = np.zeros(shape=(w, h)) \n",
    "    Gx = np.array([[-1.0, 0.0, 1.0], [-2.0, 0.0, 2.0], [-1.0, 0.0, 1.0]])\n",
    "    Gy = np.array([[-1.0, -2.0, -1.0], [0.0, 0.0, 0.0], [1.0, 2.0, 1.0]])\n",
    "    for i in range( w-2):\n",
    "        for j in range(h-2):\n",
    "            gx = np.sum(np.multiply(Gx, image[i:i + 3, j:j + 3]))\n",
    "            gy = np.sum(np.multiply(Gy, image[i:i + 3, j:j + 3]))\n",
    "            result[i + 1, j + 1] = np.sqrt(gx ** 2 + gy ** 2)\n",
    "\n",
    "    result = ImageTk.PhotoImage(Image.fromarray(result))\n",
    "    panelB = Label(image = result,borderwidth=5, relief=\"sunken\")\n",
    "    panelB.image = result\n",
    "    panelB.grid(row= 1, column=4 , rowspan= 13,columnspan= 3, padx=20, pady=20)\n",
    "    return result  \n",
    "    "
   ]
  },
  {
   "cell_type": "code",
   "execution_count": null,
   "id": "78a32c44",
   "metadata": {
    "scrolled": true
   },
   "outputs": [],
   "source": [
    "root = Tk()\n",
    "root.title(\"IMAGE PROCESSING\")\n",
    "\n",
    "l1= Label(root, text=\"Ấn để chọn hàm xử lý\",\n",
    "           fg=\"white\", bg=\"purple\", width= 98, borderwidth=5, relief=\"groove\",  font =('Verdana', 15))\n",
    "l1.grid(row= 0, column= 1, columnspan= 6, padx=20, pady=20, sticky='nesw')\n",
    "\n",
    "btn= Button(root, text=\"Tải ảnh\", fg=\"black\", bg=\"lavender\", command=upload)\n",
    "btn.grid(row= 1, column= 0, padx=10, pady=10, sticky='nesw')\n",
    "# btn1= Button(root, text=\"GRAYSCALE\", fg=\"white\", bg=\"snow4\", command=grayscale)\n",
    "# btn1.grid(row= 2, column= 0, padx=10, pady=10, sticky='nesw')\n",
    "\n",
    "btn2= Button(root, text=\"Âm bản\", fg=\"white\", bg=\"black\", command=amban)\n",
    "btn2.grid(row= 3, column= 0, padx=10, pady=10, sticky='nesw')\n",
    "\n",
    "btn3= Button(root, text=\"Phân ngưỡng\", fg=\"white\", bg=\"red\", command=phanNguong)\n",
    "btn3.grid(row= 4, column= 0, padx=10, pady=10, sticky='nesw')\n",
    "\n",
    "btn4= Button(root, text=\"Logarith\", fg=\"white\", bg=\"green\", command=logarith)\n",
    "btn4.grid(row= 5, column= 0, padx=10, pady=10, sticky='nesw')\n",
    "\n",
    "btn5= Button(root, text=\"Cân bằng lược đồ xám\", fg=\"white\", bg=\"blue\", command=histogram)\n",
    "btn5.grid(row= 6, column= 0, padx=10, pady=10, sticky='nesw')\n",
    "\n",
    "btn6= Button(root, text=\"Giãn\", fg=\"white\", bg=\"black\", command=gian)\n",
    "btn6.grid(row= 7, column= 0, padx=10, pady=10, sticky='nesw')\n",
    "\n",
    "btn7= Button(root, text=\"Hàm mũ\", fg=\"white\", bg=\"black\", command=hamMu)\n",
    "btn7.grid(row= 8, column= 0, padx=10, pady=10, sticky='nesw')\n",
    "\n",
    "btn8= Button(root, text=\"Sobel\", fg=\"white\", bg=\"black\", command=Sobel)\n",
    "btn8.grid(row= 9, column= 0, padx=10, pady=10, sticky='nesw')\n",
    "\n",
    "\n",
    "\n",
    "root.mainloop()"
   ]
  },
  {
   "cell_type": "code",
   "execution_count": 13,
   "id": "4deb445b",
   "metadata": {},
   "outputs": [
    {
     "data": {
      "text/plain": [
       "5.541263545158426"
      ]
     },
     "execution_count": 13,
     "metadata": {},
     "output_type": "execute_result"
    }
   ],
   "source": [
    "np.log(255)"
   ]
  },
  {
   "cell_type": "code",
   "execution_count": null,
   "id": "dfadf9ca",
   "metadata": {},
   "outputs": [],
   "source": []
  }
 ],
 "metadata": {
  "kernelspec": {
   "display_name": "Python 3 (ipykernel)",
   "language": "python",
   "name": "python3"
  },
  "language_info": {
   "codemirror_mode": {
    "name": "ipython",
    "version": 3
   },
   "file_extension": ".py",
   "mimetype": "text/x-python",
   "name": "python",
   "nbconvert_exporter": "python",
   "pygments_lexer": "ipython3",
   "version": "3.10.13"
  }
 },
 "nbformat": 4,
 "nbformat_minor": 5
}
